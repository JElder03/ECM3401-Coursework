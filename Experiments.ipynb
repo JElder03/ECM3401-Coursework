{
 "cells": [
  {
   "cell_type": "code",
   "execution_count": 25,
   "metadata": {},
   "outputs": [],
   "source": [
    "import numpy as np\n",
    "import random\n",
    "from sklearn.model_selection import train_test_split\n",
    "from sklearn import metrics\n",
    "from sklearn.ensemble import RandomForestClassifier, ExtraTreesClassifier\n",
    "from sklearn.datasets import load_wine\n",
    "from AdjustedRandomForest import train"
   ]
  },
  {
   "cell_type": "code",
   "execution_count": 26,
   "metadata": {},
   "outputs": [
    {
     "name": "stdout",
     "output_type": "stream",
     "text": [
      "\n",
      "Test Average Accuracy: 79.53%\n",
      "Labels Corrected: 80.47%\n",
      "Control Average Accuracy: 72.38%\n"
     ]
    }
   ],
   "source": [
    "# MISLABELLING\n",
    "scores_my = []\n",
    "mismatched_my = []\n",
    "scores_std = []\n",
    "MISLABELLING = 0.6\n",
    "\n",
    "for _ in range(100):\n",
    "    wine = load_wine()\n",
    "    X_train, X_test, y_train, y_test = train_test_split(wine.data, wine.target)\n",
    "\n",
    "    y_mislabelled = np.copy(y_train)\n",
    "\n",
    "    for i in range(int(len(y_mislabelled) * MISLABELLING)):\n",
    "        y_mislabelled[i] = (y_mislabelled[0] + random.randint(1,2)) % len(np.unique(wine.target))\n",
    "\n",
    "    rf, corrected_y = train(RandomForestClassifier, X_train, y_mislabelled, np.unique(wine.target), n_estimators=5)\n",
    "    \n",
    "    y_test_pred = rf.predict(X_test)\n",
    "\n",
    "    #mismatch_indices = [index for index, (i, j) in enumerate(zip(corrected_y, y_train)) if i != j]\n",
    "\n",
    "    mismatched_my.append(sum(i!=j for i, j in zip(corrected_y, y_train)))\n",
    "    scores_my.append(metrics.accuracy_score(y_test, y_test_pred))\n",
    "\n",
    "    rf = RandomForestClassifier(n_estimators=100, criterion='entropy')\n",
    "    rf.fit(X_train, y_mislabelled)\n",
    "    y_test_pred = rf.predict(X_test)\n",
    "    scores_std.append(metrics.accuracy_score(y_test, y_test_pred))\n",
    "\n",
    "mismatched_init = int(len(X_train) * MISLABELLING)\n",
    "\n",
    "print(f\"\\nTest Average Accuracy: {(np.mean(scores_my)*100).round(2)}%\")\n",
    "print(f\"Labels Corrected: {((1 - np.mean(mismatched_my)/mismatched_init) * 100).round(2)}%\")\n",
    "print(f\"Control Average Accuracy: {(np.mean(scores_std)*100).round(2)}%\")\n",
    "\n",
    "# Is accuracy about 50% of data at no mislabelling\n",
    "# Does evaluating off n trees make any difference?"
   ]
  }
 ],
 "metadata": {
  "kernelspec": {
   "display_name": "Dissertation",
   "language": "python",
   "name": "python3"
  },
  "language_info": {
   "codemirror_mode": {
    "name": "ipython",
    "version": 3
   },
   "file_extension": ".py",
   "mimetype": "text/x-python",
   "name": "python",
   "nbconvert_exporter": "python",
   "pygments_lexer": "ipython3",
   "version": "3.13.2"
  }
 },
 "nbformat": 4,
 "nbformat_minor": 2
}
